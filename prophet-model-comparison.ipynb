{
 "cells": [
  {
   "cell_type": "code",
   "execution_count": 160,
   "metadata": {},
   "outputs": [],
   "source": [
    "import pandas as pd\n",
    "import numpy as np\n",
    "from datetime import datetime, timedelta, date, time\n",
    "from prophet import Prophet\n",
    "from numpy import mean\n",
    "from numpy import std\n",
    "from sklearn.metrics import mean_squared_error,mean_absolute_error,r2_score\n",
    "from sklearn.preprocessing import MinMaxScaler\n",
    "from math import sqrt"
   ]
  },
  {
   "cell_type": "code",
   "execution_count": 117,
   "metadata": {},
   "outputs": [],
   "source": [
    "DELTA = 40\n",
    "AGG = 20\n",
    "FREQ = str(AGG) + 'min'"
   ]
  },
  {
   "cell_type": "code",
   "execution_count": 118,
   "metadata": {},
   "outputs": [],
   "source": [
    "transactions = pd.read_csv('transactions.csv', header=0, index_col=0)\n",
    "df = transactions.drop(['Value'], axis=1)\n",
    "df = df.sort_index()\n",
    "df.index = pd.to_datetime(df.index)\n",
    "df = df.groupby(pd.Grouper(level='Date', freq=FREQ)).mean()"
   ]
  },
  {
   "cell_type": "code",
   "execution_count": 119,
   "metadata": {},
   "outputs": [
    {
     "data": {
      "text/plain": [
       "(datetime.datetime(2021, 10, 16, 3, 0), datetime.datetime(2021, 10, 17, 6, 0))"
      ]
     },
     "execution_count": 119,
     "metadata": {},
     "output_type": "execute_result"
    }
   ],
   "source": [
    "start_date = datetime.combine(date(2021, 10, 16), time(3,0)) \n",
    "end_date = datetime.combine(date(2021, 10, 17), time(6,0))\n",
    "\n",
    "start_date, end_date"
   ]
  },
  {
   "cell_type": "code",
   "execution_count": 120,
   "metadata": {},
   "outputs": [],
   "source": [
    "df = df.reset_index()"
   ]
  },
  {
   "cell_type": "code",
   "execution_count": 121,
   "metadata": {},
   "outputs": [],
   "source": [
    "def y_lims(df, col_name):\n",
    "    data_mean, data_std = mean(df[col_name]), std(df[col_name])\n",
    "    cut_off = data_std * 5\n",
    "    return data_mean - cut_off, data_mean + cut_off   \n",
    "\n",
    "def cut_off(df, col_name):\n",
    "    data_mean, data_std = mean(df[col_name]), std(df[col_name])\n",
    "    cut_off = data_std * 4\n",
    "    lower, upper = data_mean - cut_off, data_mean + cut_off\n",
    "    # print(data_mean, data_std, lower, upper)\n",
    "    for index,row in df.iterrows():\n",
    "        if row[col_name] < lower:\n",
    "            row[col_name]=lower\n",
    "        elif row[col_name] > upper:\n",
    "            row[col_name]=upper"
   ]
  },
  {
   "cell_type": "code",
   "execution_count": 122,
   "metadata": {},
   "outputs": [
    {
     "data": {
      "text/html": [
       "<div>\n",
       "<style scoped>\n",
       "    .dataframe tbody tr th:only-of-type {\n",
       "        vertical-align: middle;\n",
       "    }\n",
       "\n",
       "    .dataframe tbody tr th {\n",
       "        vertical-align: top;\n",
       "    }\n",
       "\n",
       "    .dataframe thead th {\n",
       "        text-align: right;\n",
       "    }\n",
       "</style>\n",
       "<table border=\"1\" class=\"dataframe\">\n",
       "  <thead>\n",
       "    <tr style=\"text-align: right;\">\n",
       "      <th></th>\n",
       "      <th>ds</th>\n",
       "      <th>y</th>\n",
       "    </tr>\n",
       "  </thead>\n",
       "  <tbody>\n",
       "    <tr>\n",
       "      <th>0</th>\n",
       "      <td>2021-01-01 00:00:00</td>\n",
       "      <td>8.084088e+10</td>\n",
       "    </tr>\n",
       "    <tr>\n",
       "      <th>1</th>\n",
       "      <td>2021-01-01 00:20:00</td>\n",
       "      <td>8.024579e+10</td>\n",
       "    </tr>\n",
       "    <tr>\n",
       "      <th>2</th>\n",
       "      <td>2021-01-01 00:40:00</td>\n",
       "      <td>7.701433e+10</td>\n",
       "    </tr>\n",
       "    <tr>\n",
       "      <th>3</th>\n",
       "      <td>2021-01-01 01:00:00</td>\n",
       "      <td>8.713914e+10</td>\n",
       "    </tr>\n",
       "    <tr>\n",
       "      <th>4</th>\n",
       "      <td>2021-01-01 01:20:00</td>\n",
       "      <td>7.425917e+10</td>\n",
       "    </tr>\n",
       "  </tbody>\n",
       "</table>\n",
       "</div>"
      ],
      "text/plain": [
       "                   ds             y\n",
       "0 2021-01-01 00:00:00  8.084088e+10\n",
       "1 2021-01-01 00:20:00  8.024579e+10\n",
       "2 2021-01-01 00:40:00  7.701433e+10\n",
       "3 2021-01-01 01:00:00  8.713914e+10\n",
       "4 2021-01-01 01:20:00  7.425917e+10"
      ]
     },
     "execution_count": 122,
     "metadata": {},
     "output_type": "execute_result"
    }
   ],
   "source": [
    "df.rename(columns = {'Date':'ds', 'Price': 'y'}, inplace=True)\n",
    "df.head()"
   ]
  },
  {
   "cell_type": "code",
   "execution_count": 123,
   "metadata": {},
   "outputs": [
    {
     "name": "stderr",
     "output_type": "stream",
     "text": [
      "/home/andras/.local/lib/python3.8/site-packages/prophet/forecaster.py:896: FutureWarning: The frame.append method is deprecated and will be removed from pandas in a future version. Use pandas.concat instead.\n",
      "  components = components.append(new_comp)\n"
     ]
    },
    {
     "data": {
      "text/plain": [
       "<prophet.forecaster.Prophet at 0x7f7f7e2b8820>"
      ]
     },
     "execution_count": 123,
     "metadata": {},
     "output_type": "execute_result"
    }
   ],
   "source": [
    "m = Prophet(changepoint_prior_scale=0.0005,yearly_seasonality=False, weekly_seasonality=True, daily_seasonality=True, interval_width=0.30)\n",
    "m.fit(df)"
   ]
  },
  {
   "cell_type": "code",
   "execution_count": 124,
   "metadata": {},
   "outputs": [
    {
     "data": {
      "text/html": [
       "<div>\n",
       "<style scoped>\n",
       "    .dataframe tbody tr th:only-of-type {\n",
       "        vertical-align: middle;\n",
       "    }\n",
       "\n",
       "    .dataframe tbody tr th {\n",
       "        vertical-align: top;\n",
       "    }\n",
       "\n",
       "    .dataframe thead th {\n",
       "        text-align: right;\n",
       "    }\n",
       "</style>\n",
       "<table border=\"1\" class=\"dataframe\">\n",
       "  <thead>\n",
       "    <tr style=\"text-align: right;\">\n",
       "      <th></th>\n",
       "      <th>ds</th>\n",
       "    </tr>\n",
       "  </thead>\n",
       "  <tbody>\n",
       "    <tr>\n",
       "      <th>21047</th>\n",
       "      <td>2021-10-20 07:40:00</td>\n",
       "    </tr>\n",
       "    <tr>\n",
       "      <th>21048</th>\n",
       "      <td>2021-10-20 08:00:00</td>\n",
       "    </tr>\n",
       "    <tr>\n",
       "      <th>21049</th>\n",
       "      <td>2021-10-20 08:20:00</td>\n",
       "    </tr>\n",
       "    <tr>\n",
       "      <th>21050</th>\n",
       "      <td>2021-10-20 08:40:00</td>\n",
       "    </tr>\n",
       "    <tr>\n",
       "      <th>21051</th>\n",
       "      <td>2021-10-20 09:00:00</td>\n",
       "    </tr>\n",
       "  </tbody>\n",
       "</table>\n",
       "</div>"
      ],
      "text/plain": [
       "                       ds\n",
       "21047 2021-10-20 07:40:00\n",
       "21048 2021-10-20 08:00:00\n",
       "21049 2021-10-20 08:20:00\n",
       "21050 2021-10-20 08:40:00\n",
       "21051 2021-10-20 09:00:00"
      ]
     },
     "execution_count": 124,
     "metadata": {},
     "output_type": "execute_result"
    }
   ],
   "source": [
    "future = m.make_future_dataframe(periods=100, freq=FREQ)\n",
    "future.tail()"
   ]
  },
  {
   "cell_type": "code",
   "execution_count": 125,
   "metadata": {},
   "outputs": [
    {
     "name": "stderr",
     "output_type": "stream",
     "text": [
      "/home/andras/.local/lib/python3.8/site-packages/prophet/forecaster.py:896: FutureWarning: The frame.append method is deprecated and will be removed from pandas in a future version. Use pandas.concat instead.\n",
      "  components = components.append(new_comp)\n",
      "/home/andras/.local/lib/python3.8/site-packages/prophet/forecaster.py:896: FutureWarning: The frame.append method is deprecated and will be removed from pandas in a future version. Use pandas.concat instead.\n",
      "  components = components.append(new_comp)\n"
     ]
    },
    {
     "data": {
      "text/html": [
       "<div>\n",
       "<style scoped>\n",
       "    .dataframe tbody tr th:only-of-type {\n",
       "        vertical-align: middle;\n",
       "    }\n",
       "\n",
       "    .dataframe tbody tr th {\n",
       "        vertical-align: top;\n",
       "    }\n",
       "\n",
       "    .dataframe thead th {\n",
       "        text-align: right;\n",
       "    }\n",
       "</style>\n",
       "<table border=\"1\" class=\"dataframe\">\n",
       "  <thead>\n",
       "    <tr style=\"text-align: right;\">\n",
       "      <th></th>\n",
       "      <th>ds</th>\n",
       "      <th>yhat</th>\n",
       "      <th>yhat_lower</th>\n",
       "      <th>yhat_upper</th>\n",
       "    </tr>\n",
       "  </thead>\n",
       "  <tbody>\n",
       "    <tr>\n",
       "      <th>21047</th>\n",
       "      <td>2021-10-20 07:40:00</td>\n",
       "      <td>1.173936e+11</td>\n",
       "      <td>8.513763e+10</td>\n",
       "      <td>1.499029e+11</td>\n",
       "    </tr>\n",
       "    <tr>\n",
       "      <th>21048</th>\n",
       "      <td>2021-10-20 08:00:00</td>\n",
       "      <td>1.188005e+11</td>\n",
       "      <td>8.448295e+10</td>\n",
       "      <td>1.476847e+11</td>\n",
       "    </tr>\n",
       "    <tr>\n",
       "      <th>21049</th>\n",
       "      <td>2021-10-20 08:20:00</td>\n",
       "      <td>1.202216e+11</td>\n",
       "      <td>8.562359e+10</td>\n",
       "      <td>1.561658e+11</td>\n",
       "    </tr>\n",
       "    <tr>\n",
       "      <th>21050</th>\n",
       "      <td>2021-10-20 08:40:00</td>\n",
       "      <td>1.214966e+11</td>\n",
       "      <td>9.758718e+10</td>\n",
       "      <td>1.594606e+11</td>\n",
       "    </tr>\n",
       "    <tr>\n",
       "      <th>21051</th>\n",
       "      <td>2021-10-20 09:00:00</td>\n",
       "      <td>1.225002e+11</td>\n",
       "      <td>9.205255e+10</td>\n",
       "      <td>1.579302e+11</td>\n",
       "    </tr>\n",
       "  </tbody>\n",
       "</table>\n",
       "</div>"
      ],
      "text/plain": [
       "                       ds          yhat    yhat_lower    yhat_upper\n",
       "21047 2021-10-20 07:40:00  1.173936e+11  8.513763e+10  1.499029e+11\n",
       "21048 2021-10-20 08:00:00  1.188005e+11  8.448295e+10  1.476847e+11\n",
       "21049 2021-10-20 08:20:00  1.202216e+11  8.562359e+10  1.561658e+11\n",
       "21050 2021-10-20 08:40:00  1.214966e+11  9.758718e+10  1.594606e+11\n",
       "21051 2021-10-20 09:00:00  1.225002e+11  9.205255e+10  1.579302e+11"
      ]
     },
     "execution_count": 125,
     "metadata": {},
     "output_type": "execute_result"
    }
   ],
   "source": [
    "forecast = m.predict(future)\n",
    "forecast[['ds', 'yhat', 'yhat_lower', 'yhat_upper']].tail()\n"
   ]
  },
  {
   "cell_type": "code",
   "execution_count": 128,
   "metadata": {},
   "outputs": [
    {
     "name": "stdout",
     "output_type": "stream",
     "text": [
      "(-134439555175.91237, 346425651272.1157)\n"
     ]
    },
    {
     "data": {
      "text/plain": [
       "(40000000000.0, 175000000000.0)"
      ]
     },
     "execution_count": 128,
     "metadata": {},
     "output_type": "execute_result"
    },
    {
     "data": {
      "image/png": "[encoded data removed]",
      "text/plain": [
       "<Figure size 720x504 with 1 Axes>"
      ]
     },
     "metadata": {},
     "output_type": "display_data"
    }
   ],
   "source": [
    "fig = m.plot(forecast, figsize=(10, 7))\n",
    "ax = fig.gca()\n",
    "ax.set_xlim([start_date, end_date])\n",
    "ax.set_ylim(0.4e11, 1.75e11)"
   ]
  },
  {
   "cell_type": "code",
   "execution_count": 161,
   "metadata": {},
   "outputs": [],
   "source": [
    "real=np.array(df.y)\n",
    "real=real.reshape(-1, 1)\n",
    "real = real[-100:]\n",
    "pred=np.array(forecast.yhat)\n",
    "pred=pred.reshape(-1, 1)\n",
    "pred = pred[-100:]"
   ]
  },
  {
   "cell_type": "code",
   "execution_count": 162,
   "metadata": {},
   "outputs": [
    {
     "name": "stdout",
     "output_type": "stream",
     "text": [
      "prophet MAE : 77150855758.591\n",
      "prophet MSE: 51598498298482541985792.000\n",
      "prophet R2-score : -0.037\n",
      "prophet RMSE : 227153028371.806\n"
     ]
    }
   ],
   "source": [
    "# sc = MinMaxScaler(feature_range=(0,1))\n",
    "# real = sc.fit_transform(real)\n",
    "# pred = sc.transform(pred)\n",
    "#Error Metrics On Test Set\n",
    "print('prophet MAE : %.3f'%mean_absolute_error(real, pred))\n",
    "print('prophet MSE: %.3f'%mean_squared_error(real, pred))\n",
    "print('prophet R2-score : %.3f'%r2_score(real, pred))\n",
    "print('prophet RMSE : %.3f'%sqrt(mean_squared_error(real, pred)))"
   ]
  }
 ],
 "metadata": {
  "interpreter": {
   "hash": "af0324a3a095e683ebec14e1e78290fc57dcf488c92a1fc89546940ae79678f2"
  },
  "kernelspec": {
   "display_name": "Python 3.7.6 ('deepar')",
   "language": "python",
   "name": "python3"
  },
  "language_info": {
   "codemirror_mode": {
    "name": "ipython",
    "version": 3
   },
   "file_extension": ".py",
   "mimetype": "text/x-python",
   "name": "python",
   "nbconvert_exporter": "python",
   "pygments_lexer": "ipython3",
   "version": "3.8.8"
  },
  "orig_nbformat": 4
 },
 "nbformat": 4,
 "nbformat_minor": 2
}
