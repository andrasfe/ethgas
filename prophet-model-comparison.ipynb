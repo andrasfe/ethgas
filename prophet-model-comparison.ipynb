{
 "cells": [
  {
   "cell_type": "code",
   "execution_count": 165,
   "metadata": {},
   "outputs": [],
   "source": [
    "import pandas as pd\n",
    "from datetime import datetime, timedelta, date, time\n",
    "from prophet import Prophet\n",
    "from numpy import mean\n",
    "from numpy import std"
   ]
  },
  {
   "cell_type": "code",
   "execution_count": 166,
   "metadata": {},
   "outputs": [],
   "source": [
    "DELTA = 40\n",
    "AGG = 20\n",
    "FREQ = str(AGG) + 'min'"
   ]
  },
  {
   "cell_type": "code",
   "execution_count": 167,
   "metadata": {},
   "outputs": [],
   "source": [
    "transactions = pd.read_csv('transactions.csv', header=0, index_col=0)\n",
    "df = transactions.drop(['Value'], axis=1)\n",
    "df = df.sort_index()\n",
    "df.index = pd.to_datetime(df.index)\n",
    "df = df.groupby(pd.Grouper(level='Date', freq=FREQ)).mean()"
   ]
  },
  {
   "cell_type": "code",
   "execution_count": 168,
   "metadata": {},
   "outputs": [
    {
     "data": {
      "text/plain": [
       "(datetime.datetime(2021, 10, 17, 6, 0),\n",
       " datetime.datetime(2021, 10, 18, 15, 20))"
      ]
     },
     "execution_count": 168,
     "metadata": {},
     "output_type": "execute_result"
    }
   ],
   "source": [
    "start_date = datetime(2021, 10, 17, 6, 0)\n",
    "end_date = start_date + timedelta(minutes=AGG*100)\n",
    "start_date, end_date"
   ]
  },
  {
   "cell_type": "code",
   "execution_count": 169,
   "metadata": {},
   "outputs": [],
   "source": [
    "# df = df[start_date:end_date]['Price']\n",
    "df = df.reset_index()"
   ]
  },
  {
   "cell_type": "code",
   "execution_count": 184,
   "metadata": {},
   "outputs": [],
   "source": [
    "def y_lims(df, col_name):\n",
    "    data_mean, data_std = mean(df[col_name]), std(df[col_name])\n",
    "    cut_off = data_std * 5\n",
    "    return data_mean - cut_off, data_mean + cut_off   \n",
    "\n",
    "def cut_off(df, col_name):\n",
    "    data_mean, data_std = mean(df[col_name]), std(df[col_name])\n",
    "    cut_off = data_std * 2\n",
    "    lower, upper = data_mean - cut_off, data_mean + cut_off\n",
    "    # print(data_mean, data_std, lower, upper)\n",
    "    for index,row in df.iterrows():\n",
    "        if row[col_name] < lower:\n",
    "            row[col_name]=lower\n",
    "        elif row[col_name] > upper:\n",
    "            row[col_name]=upper"
   ]
  },
  {
   "cell_type": "code",
   "execution_count": 176,
   "metadata": {},
   "outputs": [
    {
     "name": "stdout",
     "output_type": "stream",
     "text": [
      "105861616526.50877 98067419763.33182 -90273223000.15486 301996456053.1724\n"
     ]
    },
    {
     "data": {
      "text/html": [
       "<div>\n",
       "<style scoped>\n",
       "    .dataframe tbody tr th:only-of-type {\n",
       "        vertical-align: middle;\n",
       "    }\n",
       "\n",
       "    .dataframe tbody tr th {\n",
       "        vertical-align: top;\n",
       "    }\n",
       "\n",
       "    .dataframe thead th {\n",
       "        text-align: right;\n",
       "    }\n",
       "</style>\n",
       "<table border=\"1\" class=\"dataframe\">\n",
       "  <thead>\n",
       "    <tr style=\"text-align: right;\">\n",
       "      <th></th>\n",
       "      <th>ds</th>\n",
       "      <th>y</th>\n",
       "    </tr>\n",
       "  </thead>\n",
       "  <tbody>\n",
       "    <tr>\n",
       "      <th>0</th>\n",
       "      <td>2021-01-01 00:00:00</td>\n",
       "      <td>8.084088e+10</td>\n",
       "    </tr>\n",
       "    <tr>\n",
       "      <th>1</th>\n",
       "      <td>2021-01-01 00:20:00</td>\n",
       "      <td>8.024579e+10</td>\n",
       "    </tr>\n",
       "    <tr>\n",
       "      <th>2</th>\n",
       "      <td>2021-01-01 00:40:00</td>\n",
       "      <td>7.701433e+10</td>\n",
       "    </tr>\n",
       "    <tr>\n",
       "      <th>3</th>\n",
       "      <td>2021-01-01 01:00:00</td>\n",
       "      <td>8.713914e+10</td>\n",
       "    </tr>\n",
       "    <tr>\n",
       "      <th>4</th>\n",
       "      <td>2021-01-01 01:20:00</td>\n",
       "      <td>7.425917e+10</td>\n",
       "    </tr>\n",
       "  </tbody>\n",
       "</table>\n",
       "</div>"
      ],
      "text/plain": [
       "                   ds             y\n",
       "0 2021-01-01 00:00:00  8.084088e+10\n",
       "1 2021-01-01 00:20:00  8.024579e+10\n",
       "2 2021-01-01 00:40:00  7.701433e+10\n",
       "3 2021-01-01 01:00:00  8.713914e+10\n",
       "4 2021-01-01 01:20:00  7.425917e+10"
      ]
     },
     "execution_count": 176,
     "metadata": {},
     "output_type": "execute_result"
    }
   ],
   "source": [
    "df.rename(columns = {'Date':'ds', 'Price': 'y'}, inplace=True)\n",
    "df.head()"
   ]
  },
  {
   "cell_type": "code",
   "execution_count": 171,
   "metadata": {},
   "outputs": [
    {
     "data": {
      "text/plain": [
       "<prophet.forecaster.Prophet at 0x7f1bfc7e4430>"
      ]
     },
     "execution_count": 171,
     "metadata": {},
     "output_type": "execute_result"
    }
   ],
   "source": [
    "m = Prophet(changepoint_prior_scale=0.0005,yearly_seasonality=False, weekly_seasonality=True, daily_seasonality=True)\n",
    "m.fit(df)"
   ]
  },
  {
   "cell_type": "code",
   "execution_count": 172,
   "metadata": {},
   "outputs": [
    {
     "data": {
      "text/html": [
       "<div>\n",
       "<style scoped>\n",
       "    .dataframe tbody tr th:only-of-type {\n",
       "        vertical-align: middle;\n",
       "    }\n",
       "\n",
       "    .dataframe tbody tr th {\n",
       "        vertical-align: top;\n",
       "    }\n",
       "\n",
       "    .dataframe thead th {\n",
       "        text-align: right;\n",
       "    }\n",
       "</style>\n",
       "<table border=\"1\" class=\"dataframe\">\n",
       "  <thead>\n",
       "    <tr style=\"text-align: right;\">\n",
       "      <th></th>\n",
       "      <th>ds</th>\n",
       "    </tr>\n",
       "  </thead>\n",
       "  <tbody>\n",
       "    <tr>\n",
       "      <th>21047</th>\n",
       "      <td>2021-10-20 07:40:00</td>\n",
       "    </tr>\n",
       "    <tr>\n",
       "      <th>21048</th>\n",
       "      <td>2021-10-20 08:00:00</td>\n",
       "    </tr>\n",
       "    <tr>\n",
       "      <th>21049</th>\n",
       "      <td>2021-10-20 08:20:00</td>\n",
       "    </tr>\n",
       "    <tr>\n",
       "      <th>21050</th>\n",
       "      <td>2021-10-20 08:40:00</td>\n",
       "    </tr>\n",
       "    <tr>\n",
       "      <th>21051</th>\n",
       "      <td>2021-10-20 09:00:00</td>\n",
       "    </tr>\n",
       "  </tbody>\n",
       "</table>\n",
       "</div>"
      ],
      "text/plain": [
       "                       ds\n",
       "21047 2021-10-20 07:40:00\n",
       "21048 2021-10-20 08:00:00\n",
       "21049 2021-10-20 08:20:00\n",
       "21050 2021-10-20 08:40:00\n",
       "21051 2021-10-20 09:00:00"
      ]
     },
     "execution_count": 172,
     "metadata": {},
     "output_type": "execute_result"
    }
   ],
   "source": [
    "future = m.make_future_dataframe(periods=100, freq=FREQ)\n",
    "future.tail()"
   ]
  },
  {
   "cell_type": "code",
   "execution_count": 173,
   "metadata": {},
   "outputs": [
    {
     "data": {
      "text/html": [
       "<div>\n",
       "<style scoped>\n",
       "    .dataframe tbody tr th:only-of-type {\n",
       "        vertical-align: middle;\n",
       "    }\n",
       "\n",
       "    .dataframe tbody tr th {\n",
       "        vertical-align: top;\n",
       "    }\n",
       "\n",
       "    .dataframe thead th {\n",
       "        text-align: right;\n",
       "    }\n",
       "</style>\n",
       "<table border=\"1\" class=\"dataframe\">\n",
       "  <thead>\n",
       "    <tr style=\"text-align: right;\">\n",
       "      <th></th>\n",
       "      <th>ds</th>\n",
       "      <th>yhat</th>\n",
       "      <th>yhat_lower</th>\n",
       "      <th>yhat_upper</th>\n",
       "    </tr>\n",
       "  </thead>\n",
       "  <tbody>\n",
       "    <tr>\n",
       "      <th>21047</th>\n",
       "      <td>2021-10-20 07:40:00</td>\n",
       "      <td>1.173936e+11</td>\n",
       "      <td>1.160712e+10</td>\n",
       "      <td>2.232846e+11</td>\n",
       "    </tr>\n",
       "    <tr>\n",
       "      <th>21048</th>\n",
       "      <td>2021-10-20 08:00:00</td>\n",
       "      <td>1.188005e+11</td>\n",
       "      <td>7.174842e+09</td>\n",
       "      <td>2.266301e+11</td>\n",
       "    </tr>\n",
       "    <tr>\n",
       "      <th>21049</th>\n",
       "      <td>2021-10-20 08:20:00</td>\n",
       "      <td>1.202216e+11</td>\n",
       "      <td>6.517861e+09</td>\n",
       "      <td>2.300397e+11</td>\n",
       "    </tr>\n",
       "    <tr>\n",
       "      <th>21050</th>\n",
       "      <td>2021-10-20 08:40:00</td>\n",
       "      <td>1.214966e+11</td>\n",
       "      <td>9.878667e+09</td>\n",
       "      <td>2.253492e+11</td>\n",
       "    </tr>\n",
       "    <tr>\n",
       "      <th>21051</th>\n",
       "      <td>2021-10-20 09:00:00</td>\n",
       "      <td>1.225002e+11</td>\n",
       "      <td>1.855281e+10</td>\n",
       "      <td>2.323071e+11</td>\n",
       "    </tr>\n",
       "  </tbody>\n",
       "</table>\n",
       "</div>"
      ],
      "text/plain": [
       "                       ds          yhat    yhat_lower    yhat_upper\n",
       "21047 2021-10-20 07:40:00  1.173936e+11  1.160712e+10  2.232846e+11\n",
       "21048 2021-10-20 08:00:00  1.188005e+11  7.174842e+09  2.266301e+11\n",
       "21049 2021-10-20 08:20:00  1.202216e+11  6.517861e+09  2.300397e+11\n",
       "21050 2021-10-20 08:40:00  1.214966e+11  9.878667e+09  2.253492e+11\n",
       "21051 2021-10-20 09:00:00  1.225002e+11  1.855281e+10  2.323071e+11"
      ]
     },
     "execution_count": 173,
     "metadata": {},
     "output_type": "execute_result"
    }
   ],
   "source": [
    "forecast = m.predict(future)\n",
    "forecast[['ds', 'yhat', 'yhat_lower', 'yhat_upper']].tail()\n"
   ]
  },
  {
   "cell_type": "code",
   "execution_count": 186,
   "metadata": {},
   "outputs": [
    {
     "name": "stdout",
     "output_type": "stream",
     "text": [
      "(9820006758.496048, 202166089337.70728)\n"
     ]
    },
    {
     "data": {
      "text/plain": [
       "(9820006758.496048, 202166089337.70728)"
      ]
     },
     "execution_count": 186,
     "metadata": {},
     "output_type": "execute_result"
    },
    {
     "data": {
      "image/png": "[encoded data removed]",
      "text/plain": [
       "<Figure size 720x504 with 1 Axes>"
      ]
     },
     "metadata": {},
     "output_type": "display_data"
    }
   ],
   "source": [
    "print(y_lims(forecast, 'yhat'))\n",
    "fig = m.plot(forecast, figsize=(10, 7))\n",
    "ax = fig.gca()\n",
    "ax.set_xlim([start_date, end_date])\n",
    "ax.set_ylim(y_lims(forecast, 'yhat'))"
   ]
  }
 ],
 "metadata": {
  "interpreter": {
   "hash": "af0324a3a095e683ebec14e1e78290fc57dcf488c92a1fc89546940ae79678f2"
  },
  "kernelspec": {
   "display_name": "Python 3.7.6 ('deepar')",
   "language": "python",
   "name": "python3"
  },
  "language_info": {
   "codemirror_mode": {
    "name": "ipython",
    "version": 3
   },
   "file_extension": ".py",
   "mimetype": "text/x-python",
   "name": "python",
   "nbconvert_exporter": "python",
   "pygments_lexer": "ipython3",
   "version": "3.8.8"
  },
  "orig_nbformat": 4
 },
 "nbformat": 4,
 "nbformat_minor": 2
}
