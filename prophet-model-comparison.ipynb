{
 "cells": [
  {
   "cell_type": "code",
   "execution_count": 417,
   "metadata": {},
   "outputs": [],
   "source": [
    "import pandas as pd\n",
    "import numpy as np\n",
    "from datetime import datetime, timedelta, date, time\n",
    "from prophet import Prophet\n",
    "from numpy import mean, max, maximum, quantile\n",
    "from prophet.diagnostics import performance_metrics, cross_validation\n",
    "from prophet.plot import plot_cross_validation_metric\n",
    "from sklearn.metrics import mean_squared_error,mean_absolute_error,r2_score\n",
    "from sklearn.preprocessing import MinMaxScaler\n",
    "from math import sqrt"
   ]
  },
  {
   "cell_type": "code",
   "execution_count": 390,
   "metadata": {},
   "outputs": [],
   "source": [
    "DELTA = 40\n",
    "AGG = 20\n",
    "FREQ = str(AGG) + 'min'"
   ]
  },
  {
   "cell_type": "code",
   "execution_count": 391,
   "metadata": {},
   "outputs": [],
   "source": [
    "transactions = pd.read_csv('transactions.csv', header=0, index_col=0)\n",
    "df = transactions.drop(['Value'], axis=1)\n",
    "df = df.sort_index()\n",
    "df.index = pd.to_datetime(df.index)\n",
    "df = df.groupby(pd.Grouper(level='Date', freq=FREQ)).mean()"
   ]
  },
  {
   "cell_type": "code",
   "execution_count": 392,
   "metadata": {},
   "outputs": [
    {
     "data": {
      "text/plain": [
       "(datetime.datetime(2021, 10, 16, 3, 0), datetime.datetime(2021, 10, 17, 6, 0))"
      ]
     },
     "execution_count": 392,
     "metadata": {},
     "output_type": "execute_result"
    }
   ],
   "source": [
    "start_date = datetime.combine(date(2021, 10, 16), time(3,0)) \n",
    "end_date = datetime.combine(date(2021, 10, 17), time(6,0))\n",
    "\n",
    "start_date, end_date"
   ]
  },
  {
   "cell_type": "code",
   "execution_count": 393,
   "metadata": {},
   "outputs": [],
   "source": [
    "# train_df = df[:'2021-10-16 02:59:59']\n",
    "# test_df = df['2021-10-16 03:00:00':]"
   ]
  },
  {
   "cell_type": "code",
   "execution_count": 394,
   "metadata": {},
   "outputs": [],
   "source": [
    "def prepare_df(df):\n",
    "   df = df.reset_index() \n",
    "   df = df.rename(columns = {'Date':'ds', 'Price': 'y'}, inplace=False)\n",
    "   return df"
   ]
  },
  {
   "cell_type": "code",
   "execution_count": 403,
   "metadata": {},
   "outputs": [
    {
     "data": {
      "text/html": [
       "<div>\n",
       "<style scoped>\n",
       "    .dataframe tbody tr th:only-of-type {\n",
       "        vertical-align: middle;\n",
       "    }\n",
       "\n",
       "    .dataframe tbody tr th {\n",
       "        vertical-align: top;\n",
       "    }\n",
       "\n",
       "    .dataframe thead th {\n",
       "        text-align: right;\n",
       "    }\n",
       "</style>\n",
       "<table border=\"1\" class=\"dataframe\">\n",
       "  <thead>\n",
       "    <tr style=\"text-align: right;\">\n",
       "      <th></th>\n",
       "      <th>index</th>\n",
       "      <th>ds</th>\n",
       "      <th>y</th>\n",
       "    </tr>\n",
       "  </thead>\n",
       "  <tbody>\n",
       "    <tr>\n",
       "      <th>0</th>\n",
       "      <td>0</td>\n",
       "      <td>2021-01-01 00:00:00</td>\n",
       "      <td>8.084088e+10</td>\n",
       "    </tr>\n",
       "    <tr>\n",
       "      <th>1</th>\n",
       "      <td>1</td>\n",
       "      <td>2021-01-01 00:20:00</td>\n",
       "      <td>8.024579e+10</td>\n",
       "    </tr>\n",
       "    <tr>\n",
       "      <th>2</th>\n",
       "      <td>2</td>\n",
       "      <td>2021-01-01 00:40:00</td>\n",
       "      <td>7.701433e+10</td>\n",
       "    </tr>\n",
       "    <tr>\n",
       "      <th>3</th>\n",
       "      <td>3</td>\n",
       "      <td>2021-01-01 01:00:00</td>\n",
       "      <td>8.713914e+10</td>\n",
       "    </tr>\n",
       "    <tr>\n",
       "      <th>4</th>\n",
       "      <td>4</td>\n",
       "      <td>2021-01-01 01:20:00</td>\n",
       "      <td>7.425917e+10</td>\n",
       "    </tr>\n",
       "    <tr>\n",
       "      <th>...</th>\n",
       "      <td>...</td>\n",
       "      <td>...</td>\n",
       "      <td>...</td>\n",
       "    </tr>\n",
       "    <tr>\n",
       "      <th>20947</th>\n",
       "      <td>20947</td>\n",
       "      <td>2021-10-18 22:20:00</td>\n",
       "      <td>1.139328e+11</td>\n",
       "    </tr>\n",
       "    <tr>\n",
       "      <th>20948</th>\n",
       "      <td>20948</td>\n",
       "      <td>2021-10-18 22:40:00</td>\n",
       "      <td>9.914658e+10</td>\n",
       "    </tr>\n",
       "    <tr>\n",
       "      <th>20949</th>\n",
       "      <td>20949</td>\n",
       "      <td>2021-10-18 23:00:00</td>\n",
       "      <td>8.993732e+10</td>\n",
       "    </tr>\n",
       "    <tr>\n",
       "      <th>20950</th>\n",
       "      <td>20950</td>\n",
       "      <td>2021-10-18 23:20:00</td>\n",
       "      <td>7.477979e+10</td>\n",
       "    </tr>\n",
       "    <tr>\n",
       "      <th>20951</th>\n",
       "      <td>20951</td>\n",
       "      <td>2021-10-18 23:40:00</td>\n",
       "      <td>7.878848e+10</td>\n",
       "    </tr>\n",
       "  </tbody>\n",
       "</table>\n",
       "<p>20952 rows × 3 columns</p>\n",
       "</div>"
      ],
      "text/plain": [
       "       index                  ds             y\n",
       "0          0 2021-01-01 00:00:00  8.084088e+10\n",
       "1          1 2021-01-01 00:20:00  8.024579e+10\n",
       "2          2 2021-01-01 00:40:00  7.701433e+10\n",
       "3          3 2021-01-01 01:00:00  8.713914e+10\n",
       "4          4 2021-01-01 01:20:00  7.425917e+10\n",
       "...      ...                 ...           ...\n",
       "20947  20947 2021-10-18 22:20:00  1.139328e+11\n",
       "20948  20948 2021-10-18 22:40:00  9.914658e+10\n",
       "20949  20949 2021-10-18 23:00:00  8.993732e+10\n",
       "20950  20950 2021-10-18 23:20:00  7.477979e+10\n",
       "20951  20951 2021-10-18 23:40:00  7.878848e+10\n",
       "\n",
       "[20952 rows x 3 columns]"
      ]
     },
     "execution_count": 403,
     "metadata": {},
     "output_type": "execute_result"
    }
   ],
   "source": [
    "# train_df = prepare_df(train_df)\n",
    "# test_df = prepare_df(test_df)\n",
    "\n",
    "df = prepare_df(df)\n",
    "df"
   ]
  },
  {
   "cell_type": "code",
   "execution_count": 412,
   "metadata": {},
   "outputs": [
    {
     "name": "stderr",
     "output_type": "stream",
     "text": [
      "/home/andras/.local/lib/python3.8/site-packages/prophet/forecaster.py:896: FutureWarning: The frame.append method is deprecated and will be removed from pandas in a future version. Use pandas.concat instead.\n",
      "  components = components.append(new_comp)\n"
     ]
    },
    {
     "data": {
      "text/plain": [
       "<prophet.forecaster.Prophet at 0x7f7f57effb20>"
      ]
     },
     "execution_count": 412,
     "metadata": {},
     "output_type": "execute_result"
    }
   ],
   "source": [
    "m = Prophet(changepoint_prior_scale=0.0005,yearly_seasonality=False, weekly_seasonality=False, daily_seasonality=True, interval_width=0.50)\n",
    "m.fit(df)"
   ]
  },
  {
   "cell_type": "code",
   "execution_count": 424,
   "metadata": {},
   "outputs": [
    {
     "data": {
      "application/vnd.jupyter.widget-view+json": {
       "model_id": "e6b44f4f13eb476ea612103131cc9343",
       "version_major": 2,
       "version_minor": 0
      },
      "text/plain": [
       "  0%|          | 0/3 [00:00<?, ?it/s]"
      ]
     },
     "metadata": {},
     "output_type": "display_data"
    },
    {
     "name": "stderr",
     "output_type": "stream",
     "text": [
      "/home/andras/.local/lib/python3.8/site-packages/prophet/forecaster.py:896: FutureWarning: The frame.append method is deprecated and will be removed from pandas in a future version. Use pandas.concat instead.\n",
      "  components = components.append(new_comp)\n",
      "/home/andras/.local/lib/python3.8/site-packages/prophet/forecaster.py:896: FutureWarning: The frame.append method is deprecated and will be removed from pandas in a future version. Use pandas.concat instead.\n",
      "  components = components.append(new_comp)\n",
      "/home/andras/.local/lib/python3.8/site-packages/prophet/forecaster.py:896: FutureWarning: The frame.append method is deprecated and will be removed from pandas in a future version. Use pandas.concat instead.\n",
      "  components = components.append(new_comp)\n",
      "/home/andras/.local/lib/python3.8/site-packages/prophet/forecaster.py:896: FutureWarning: The frame.append method is deprecated and will be removed from pandas in a future version. Use pandas.concat instead.\n",
      "  components = components.append(new_comp)\n",
      "/home/andras/.local/lib/python3.8/site-packages/prophet/forecaster.py:896: FutureWarning: The frame.append method is deprecated and will be removed from pandas in a future version. Use pandas.concat instead.\n",
      "  components = components.append(new_comp)\n",
      "/home/andras/.local/lib/python3.8/site-packages/prophet/forecaster.py:896: FutureWarning: The frame.append method is deprecated and will be removed from pandas in a future version. Use pandas.concat instead.\n",
      "  components = components.append(new_comp)\n",
      "/home/andras/.local/lib/python3.8/site-packages/prophet/forecaster.py:896: FutureWarning: The frame.append method is deprecated and will be removed from pandas in a future version. Use pandas.concat instead.\n",
      "  components = components.append(new_comp)\n",
      "/home/andras/.local/lib/python3.8/site-packages/prophet/forecaster.py:896: FutureWarning: The frame.append method is deprecated and will be removed from pandas in a future version. Use pandas.concat instead.\n",
      "  components = components.append(new_comp)\n",
      "/home/andras/.local/lib/python3.8/site-packages/prophet/forecaster.py:896: FutureWarning: The frame.append method is deprecated and will be removed from pandas in a future version. Use pandas.concat instead.\n",
      "  components = components.append(new_comp)\n"
     ]
    }
   ],
   "source": [
    "cutoffs = pd.to_datetime(['2021-01-16 03:00:00', '2021-10-16 03:00:00', '2021-10-17 06:00:00'])\n",
    "df_cv2 = cross_validation(m, cutoffs=cutoffs, horizon='27hours')"
   ]
  },
  {
   "cell_type": "code",
   "execution_count": 425,
   "metadata": {},
   "outputs": [
    {
     "data": {
      "text/html": [
       "<div>\n",
       "<style scoped>\n",
       "    .dataframe tbody tr th:only-of-type {\n",
       "        vertical-align: middle;\n",
       "    }\n",
       "\n",
       "    .dataframe tbody tr th {\n",
       "        vertical-align: top;\n",
       "    }\n",
       "\n",
       "    .dataframe thead th {\n",
       "        text-align: right;\n",
       "    }\n",
       "</style>\n",
       "<table border=\"1\" class=\"dataframe\">\n",
       "  <thead>\n",
       "    <tr style=\"text-align: right;\">\n",
       "      <th></th>\n",
       "      <th>horizon</th>\n",
       "      <th>mse</th>\n",
       "      <th>rmse</th>\n",
       "      <th>mae</th>\n",
       "      <th>mape</th>\n",
       "      <th>mdape</th>\n",
       "      <th>smape</th>\n",
       "      <th>coverage</th>\n",
       "    </tr>\n",
       "  </thead>\n",
       "  <tbody>\n",
       "    <tr>\n",
       "      <th>0</th>\n",
       "      <td>0 days 02:40:00</td>\n",
       "      <td>2.361153e+21</td>\n",
       "      <td>4.859169e+10</td>\n",
       "      <td>4.167083e+10</td>\n",
       "      <td>0.615800</td>\n",
       "      <td>0.503723</td>\n",
       "      <td>0.430175</td>\n",
       "      <td>0.458333</td>\n",
       "    </tr>\n",
       "    <tr>\n",
       "      <th>1</th>\n",
       "      <td>0 days 03:00:00</td>\n",
       "      <td>2.374941e+21</td>\n",
       "      <td>4.873337e+10</td>\n",
       "      <td>4.174774e+10</td>\n",
       "      <td>0.627746</td>\n",
       "      <td>0.523064</td>\n",
       "      <td>0.435128</td>\n",
       "      <td>0.416667</td>\n",
       "    </tr>\n",
       "    <tr>\n",
       "      <th>2</th>\n",
       "      <td>0 days 03:20:00</td>\n",
       "      <td>2.329324e+21</td>\n",
       "      <td>4.826307e+10</td>\n",
       "      <td>4.147869e+10</td>\n",
       "      <td>0.626348</td>\n",
       "      <td>0.523728</td>\n",
       "      <td>0.435176</td>\n",
       "      <td>0.416667</td>\n",
       "    </tr>\n",
       "    <tr>\n",
       "      <th>3</th>\n",
       "      <td>0 days 03:40:00</td>\n",
       "      <td>2.325016e+21</td>\n",
       "      <td>4.821842e+10</td>\n",
       "      <td>4.239699e+10</td>\n",
       "      <td>0.645172</td>\n",
       "      <td>0.523728</td>\n",
       "      <td>0.449362</td>\n",
       "      <td>0.416667</td>\n",
       "    </tr>\n",
       "    <tr>\n",
       "      <th>4</th>\n",
       "      <td>0 days 04:00:00</td>\n",
       "      <td>2.197307e+21</td>\n",
       "      <td>4.687545e+10</td>\n",
       "      <td>4.054849e+10</td>\n",
       "      <td>0.615237</td>\n",
       "      <td>0.523728</td>\n",
       "      <td>0.429742</td>\n",
       "      <td>0.458333</td>\n",
       "    </tr>\n",
       "    <tr>\n",
       "      <th>...</th>\n",
       "      <td>...</td>\n",
       "      <td>...</td>\n",
       "      <td>...</td>\n",
       "      <td>...</td>\n",
       "      <td>...</td>\n",
       "      <td>...</td>\n",
       "      <td>...</td>\n",
       "      <td>...</td>\n",
       "    </tr>\n",
       "    <tr>\n",
       "      <th>69</th>\n",
       "      <td>1 days 01:40:00</td>\n",
       "      <td>3.095327e+21</td>\n",
       "      <td>5.563567e+10</td>\n",
       "      <td>5.108208e+10</td>\n",
       "      <td>0.775611</td>\n",
       "      <td>0.614431</td>\n",
       "      <td>0.528436</td>\n",
       "      <td>0.250000</td>\n",
       "    </tr>\n",
       "    <tr>\n",
       "      <th>70</th>\n",
       "      <td>1 days 02:00:00</td>\n",
       "      <td>3.149854e+21</td>\n",
       "      <td>5.612356e+10</td>\n",
       "      <td>5.132070e+10</td>\n",
       "      <td>0.792842</td>\n",
       "      <td>0.614431</td>\n",
       "      <td>0.534725</td>\n",
       "      <td>0.250000</td>\n",
       "    </tr>\n",
       "    <tr>\n",
       "      <th>71</th>\n",
       "      <td>1 days 02:20:00</td>\n",
       "      <td>3.154510e+21</td>\n",
       "      <td>5.616503e+10</td>\n",
       "      <td>5.117840e+10</td>\n",
       "      <td>0.801858</td>\n",
       "      <td>0.593994</td>\n",
       "      <td>0.537056</td>\n",
       "      <td>0.250000</td>\n",
       "    </tr>\n",
       "    <tr>\n",
       "      <th>72</th>\n",
       "      <td>1 days 02:40:00</td>\n",
       "      <td>3.149940e+21</td>\n",
       "      <td>5.612433e+10</td>\n",
       "      <td>5.102804e+10</td>\n",
       "      <td>0.812996</td>\n",
       "      <td>0.594458</td>\n",
       "      <td>0.540212</td>\n",
       "      <td>0.250000</td>\n",
       "    </tr>\n",
       "    <tr>\n",
       "      <th>73</th>\n",
       "      <td>1 days 03:00:00</td>\n",
       "      <td>3.120587e+21</td>\n",
       "      <td>5.586222e+10</td>\n",
       "      <td>5.059207e+10</td>\n",
       "      <td>0.818566</td>\n",
       "      <td>0.594458</td>\n",
       "      <td>0.540119</td>\n",
       "      <td>0.250000</td>\n",
       "    </tr>\n",
       "  </tbody>\n",
       "</table>\n",
       "<p>74 rows × 8 columns</p>\n",
       "</div>"
      ],
      "text/plain": [
       "           horizon           mse          rmse           mae      mape  \\\n",
       "0  0 days 02:40:00  2.361153e+21  4.859169e+10  4.167083e+10  0.615800   \n",
       "1  0 days 03:00:00  2.374941e+21  4.873337e+10  4.174774e+10  0.627746   \n",
       "2  0 days 03:20:00  2.329324e+21  4.826307e+10  4.147869e+10  0.626348   \n",
       "3  0 days 03:40:00  2.325016e+21  4.821842e+10  4.239699e+10  0.645172   \n",
       "4  0 days 04:00:00  2.197307e+21  4.687545e+10  4.054849e+10  0.615237   \n",
       "..             ...           ...           ...           ...       ...   \n",
       "69 1 days 01:40:00  3.095327e+21  5.563567e+10  5.108208e+10  0.775611   \n",
       "70 1 days 02:00:00  3.149854e+21  5.612356e+10  5.132070e+10  0.792842   \n",
       "71 1 days 02:20:00  3.154510e+21  5.616503e+10  5.117840e+10  0.801858   \n",
       "72 1 days 02:40:00  3.149940e+21  5.612433e+10  5.102804e+10  0.812996   \n",
       "73 1 days 03:00:00  3.120587e+21  5.586222e+10  5.059207e+10  0.818566   \n",
       "\n",
       "       mdape     smape  coverage  \n",
       "0   0.503723  0.430175  0.458333  \n",
       "1   0.523064  0.435128  0.416667  \n",
       "2   0.523728  0.435176  0.416667  \n",
       "3   0.523728  0.449362  0.416667  \n",
       "4   0.523728  0.429742  0.458333  \n",
       "..       ...       ...       ...  \n",
       "69  0.614431  0.528436  0.250000  \n",
       "70  0.614431  0.534725  0.250000  \n",
       "71  0.593994  0.537056  0.250000  \n",
       "72  0.594458  0.540212  0.250000  \n",
       "73  0.594458  0.540119  0.250000  \n",
       "\n",
       "[74 rows x 8 columns]"
      ]
     },
     "execution_count": 425,
     "metadata": {},
     "output_type": "execute_result"
    }
   ],
   "source": [
    "df_p = performance_metrics(df_cv2)\n",
    "df_p"
   ]
  },
  {
   "cell_type": "code",
   "execution_count": 437,
   "metadata": {},
   "outputs": [
    {
     "data": {
      "text/plain": [
       "Text(0.5, 1.0, 'Root Mean Squared Error using Prophet')"
      ]
     },
     "execution_count": 437,
     "metadata": {},
     "output_type": "execute_result"
    },
    {
     "data": {
      "image/png": "[encoded data removed]",
      "text/plain": [
       "<Figure size 720x504 with 1 Axes>"
      ]
     },
     "metadata": {},
     "output_type": "display_data"
    }
   ],
   "source": [
    "fig = plot_cross_validation_metric(df_cv2, metric='rmse', figsize=(10, 7))\n",
    "ax = fig.gca()\n",
    "ax.set_ylim(0, 0.5e12)\n",
    "ax.set_title('Root Mean Squared Error using Prophet')\n"
   ]
  },
  {
   "cell_type": "code",
   "execution_count": 438,
   "metadata": {},
   "outputs": [
    {
     "data": {
      "text/plain": [
       "(40000000000.0, 175000000000.0)"
      ]
     },
     "execution_count": 438,
     "metadata": {},
     "output_type": "execute_result"
    },
    {
     "data": {
      "image/png": "[encoded data removed]",
      "text/plain": [
       "<Figure size 720x504 with 1 Axes>"
      ]
     },
     "metadata": {},
     "output_type": "display_data"
    }
   ],
   "source": [
    "fig = m.plot(df_cv2, figsize=(10, 7))\n",
    "ax = fig.gca()\n",
    "ax.set_xlim([start_date, end_date])\n",
    "ax.set_ylim(0.4e11, 1.75e11)"
   ]
  }
 ],
 "metadata": {
  "interpreter": {
   "hash": "af0324a3a095e683ebec14e1e78290fc57dcf488c92a1fc89546940ae79678f2"
  },
  "kernelspec": {
   "display_name": "Python 3.7.6 ('deepar')",
   "language": "python",
   "name": "python3"
  },
  "language_info": {
   "codemirror_mode": {
    "name": "ipython",
    "version": 3
   },
   "file_extension": ".py",
   "mimetype": "text/x-python",
   "name": "python",
   "nbconvert_exporter": "python",
   "pygments_lexer": "ipython3",
   "version": "3.8.8"
  },
  "orig_nbformat": 4
 },
 "nbformat": 4,
 "nbformat_minor": 2
}
