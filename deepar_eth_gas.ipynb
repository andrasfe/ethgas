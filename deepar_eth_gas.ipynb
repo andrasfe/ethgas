{
  "cells": [
    {
      "cell_type": "code",
      "execution_count": 1,
      "metadata": {
        "id": "-jXE2Akx1mDp"
      },
      "outputs": [
        {
          "name": "stderr",
          "output_type": "stream",
          "text": [
            "2022-02-06 19:05:03.551764: W tensorflow/stream_executor/platform/default/dso_loader.cc:64] Could not load dynamic library 'libcudart.so.11.0'; dlerror: libcudart.so.11.0: cannot open shared object file: No such file or directory; LD_LIBRARY_PATH: /usr/local/cuda/lib64\n",
            "2022-02-06 19:05:03.551833: I tensorflow/stream_executor/cuda/cudart_stub.cc:29] Ignore above cudart dlerror if you do not have a GPU set up on your machine.\n"
          ]
        }
      ],
      "source": [
        "import numpy as np\n",
        "import matplotlib.pyplot as plt\n",
        "import matplotlib\n",
        "import pandas as pd\n",
        "from sklearn.metrics import mean_squared_error,mean_absolute_error,r2_score\n",
        "from math import sqrt\n",
        "from sklearn.preprocessing import MinMaxScaler, StandardScaler\n",
        "import shutil\n",
        "from datetime import datetime\n",
        "from datetime import timedelta\n",
        "# !pip uninstall pystan -y\n",
        "# !pip install pystan~=2.14\n",
        "# !pip install fbprophet\n",
        "import warnings\n",
        "warnings.simplefilter(action='ignore',category=FutureWarning)\n",
        "from keras.models import Sequential\n",
        "from keras.layers import Dense, LSTM, Dropout, GRU, Bidirectional\n",
        "from tensorflow.keras.optimizers import SGD\n",
        "from numpy import mean\n",
        "from numpy import std\n",
        "# !pip install mxnet gluonts ujson\n",
        "from gluonts.model.deepar import DeepAREstimator\n",
        "from gluonts.mx.distribution import ZeroInflatedNegativeBinomialOutput, StudentTOutput #likelihood\n",
        "from gluonts.mx.trainer.learning_rate_scheduler import LearningRateReduction\n",
        "from gluonts.mx.trainer import Trainer\n",
        "from gluonts.mx.trainer.model_averaging import ModelAveraging, SelectNBestSoftmax, SelectNBestMean\n",
        "\n",
        "from gluonts.evaluation import Evaluator\n",
        "from gluonts.model.predictor import Predictor\n",
        "from gluonts.evaluation.backtest import make_evaluation_predictions\n",
        "from gluonts.dataset.common import ListDataset\n",
        "from gluonts.dataset.util import to_pandas\n",
        "from tqdm import tqdm\n",
        "import pandas as pd\n",
        "import matplotlib.pyplot as plt\n",
        "import os\n",
        "from pathlib import Path\n",
        "from datetime import datetime, date, time\n",
        "import warnings\n",
        "warnings.simplefilter(action='ignore',category=FutureWarning)"
      ]
    },
    {
      "cell_type": "code",
      "execution_count": 2,
      "metadata": {},
      "outputs": [],
      "source": [
        "#loading data \n",
        "transactions = pd.read_csv('transactions.csv', header=0, index_col=0)\n",
        "deep_ds = transactions.drop(['Value'], axis=1)\n",
        "transaction_values = transactions.drop(['Price'], axis=1)\n",
        "transaction_values.columns = ['Count']\n",
        "ethprice = pd.read_csv('Binance_ETHUSDT_minute.csv', header=0, index_col=1)\n",
        "ethprice = ethprice[['close']]\n",
        "ethprice.index.names = ['Date']\n",
        "ethprice.columns = ['Count']"
      ]
    },
    {
      "cell_type": "code",
      "execution_count": 3,
      "metadata": {},
      "outputs": [],
      "source": [
        "# features\n",
        "features = []\n",
        "features.append(ethprice)\n",
        "features.append(transaction_values)\n",
        "features.append(pd.read_csv('blocks.csv', header=0, index_col=0))\n",
        "features.append(pd.read_csv('token_transfers.csv', header=0, index_col=0))\n",
        "features.append(pd.read_csv('traces.csv', header=0, index_col=0))\n",
        "features.append(pd.read_csv('logs.csv', header=0, index_col=0))\n"
      ]
    },
    {
      "cell_type": "code",
      "execution_count": 4,
      "metadata": {},
      "outputs": [
        {
          "data": {
            "text/plain": [
              "(Price    0.0\n",
              " dtype: float64,\n",
              " Price    85256.672614\n",
              " dtype: float64)"
            ]
          },
          "execution_count": 4,
          "metadata": {},
          "output_type": "execute_result"
        }
      ],
      "source": [
        "deep_ds.min()/1e9, deep_ds.max()/1e9"
      ]
    },
    {
      "cell_type": "markdown",
      "metadata": {},
      "source": [
        "# Settings:\n",
        "\n",
        "* RUN_MODEL -> `True` to run the model, `False` to run just the tests/generate graph\n",
        "* DELTA -> time in minutes for inference. calculated from the last data point\n",
        "* AGG -> perform aggregation by AGG minutes (20 default)"
      ]
    },
    {
      "cell_type": "code",
      "execution_count": 5,
      "metadata": {},
      "outputs": [],
      "source": [
        "RUN_MODEL = True\n",
        "DELTA = 40\n",
        "AGG = 20\n",
        "FREQ = str(AGG) + 'min'\n",
        "\n",
        "deep_ds=deep_ds.sort_index()\n",
        "deep_ds.index = pd.to_datetime(deep_ds.index)\n",
        "deep_ds = deep_ds.groupby(pd.Grouper(level='Date', freq=FREQ)).mean()\n",
        "# modify tail of series\n",
        "end = deep_ds.index[-1]\n",
        "test_cnt = int(0.2*deep_ds.shape[0])\n",
        "test_start = deep_ds.shape[0] - test_cnt\n",
        "train_ds = deep_ds[:deep_ds.index[test_start]]\n",
        "\n",
        "start = deep_ds.index[deep_ds.shape[0] - test_cnt + 1]\n",
        "end = deep_ds.index[-1] - timedelta(minutes=DELTA*AGG)\n",
        "test_ds = deep_ds[deep_ds.index[deep_ds.shape[0] - test_cnt + 1]:end]\n",
        "\n",
        "train_features = []\n",
        "test_features = []\n",
        "\n",
        "def fill_feature(reference_ds, feature):\n",
        "    for date_entry in reference_ds.index:\n",
        "        if not date_entry in feature.index:\n",
        "            feature.loc[date_entry] = 0\n",
        "            \n",
        "for i in range(len(features)):\n",
        "    features[i]=features[i].sort_index()\n",
        "    features[i].index = pd.to_datetime(features[i].index)\n",
        "    features[i] = features[i][deep_ds.index[0]:deep_ds.index[-1]]\n",
        "    features[i] = features[i].groupby(pd.Grouper(level='Date', freq=FREQ)).mean()\n",
        "\n",
        "    if features[i].shape[0] != deep_ds.shape[0]:\n",
        "        fill_feature(deep_ds, features[i])\n",
        "        \n",
        "    train_features.append(features[i][:deep_ds.index[test_start]])\n",
        "    test_features.append(features[i][features[i].index[deep_ds.shape[0] - test_cnt + 1]:end])\n",
        "    "
      ]
    },
    {
      "cell_type": "code",
      "execution_count": 6,
      "metadata": {},
      "outputs": [],
      "source": [
        "training_data = ListDataset(\n",
        "    [{\"start\": deep_ds.index[0], \"target\": train_ds['Price']\n",
        "    ,'feat_dynamic_real': [feature['Count'] for feature in train_features]\n",
        "    }],\n",
        "    freq = FREQ\n",
        ")"
      ]
    },
    {
      "cell_type": "code",
      "execution_count": 7,
      "metadata": {},
      "outputs": [
        {
          "name": "stderr",
          "output_type": "stream",
          "text": [
            "100%|██████████| 50/50 [00:07<00:00,  6.72it/s, epoch=1/500, avg_epoch_loss=25.9]\n",
            "100%|██████████| 50/50 [00:06<00:00,  7.87it/s, epoch=2/500, avg_epoch_loss=25.2]\n",
            "100%|██████████| 50/50 [00:06<00:00,  7.98it/s, epoch=3/500, avg_epoch_loss=24.9]\n",
            "100%|██████████| 50/50 [00:06<00:00,  7.83it/s, epoch=4/500, avg_epoch_loss=24.8]\n",
            "100%|██████████| 50/50 [00:06<00:00,  8.00it/s, epoch=5/500, avg_epoch_loss=24.7]\n",
            "100%|██████████| 50/50 [00:06<00:00,  8.09it/s, epoch=6/500, avg_epoch_loss=24.6]\n",
            "100%|██████████| 50/50 [00:05<00:00,  8.51it/s, epoch=7/500, avg_epoch_loss=24.6]\n",
            "100%|██████████| 50/50 [00:05<00:00,  8.35it/s, epoch=8/500, avg_epoch_loss=24.6]\n",
            "100%|██████████| 50/50 [00:05<00:00,  8.64it/s, epoch=9/500, avg_epoch_loss=24.5]\n",
            "100%|██████████| 50/50 [00:06<00:00,  8.33it/s, epoch=10/500, avg_epoch_loss=24.5]\n",
            "100%|██████████| 50/50 [00:06<00:00,  8.23it/s, epoch=11/500, avg_epoch_loss=24.5]\n",
            "100%|██████████| 50/50 [00:05<00:00,  8.42it/s, epoch=12/500, avg_epoch_loss=24.5]\n",
            "100%|██████████| 50/50 [00:05<00:00,  8.46it/s, epoch=13/500, avg_epoch_loss=24.4]\n",
            "100%|██████████| 50/50 [00:05<00:00,  8.56it/s, epoch=14/500, avg_epoch_loss=24.4]\n",
            "100%|██████████| 50/50 [00:05<00:00,  8.58it/s, epoch=15/500, avg_epoch_loss=24.5]\n",
            "100%|██████████| 50/50 [00:05<00:00,  8.55it/s, epoch=16/500, avg_epoch_loss=24.4]\n",
            "100%|██████████| 50/50 [00:05<00:00,  8.47it/s, epoch=17/500, avg_epoch_loss=24.4]\n",
            "100%|██████████| 50/50 [00:05<00:00,  8.44it/s, epoch=18/500, avg_epoch_loss=24.4]\n",
            "100%|██████████| 50/50 [00:05<00:00,  8.42it/s, epoch=19/500, avg_epoch_loss=24.4]\n",
            "100%|██████████| 50/50 [00:05<00:00,  8.49it/s, epoch=20/500, avg_epoch_loss=24.4]\n",
            "100%|██████████| 50/50 [00:05<00:00,  8.36it/s, epoch=21/500, avg_epoch_loss=24.4]\n",
            "100%|██████████| 50/50 [00:05<00:00,  8.40it/s, epoch=22/500, avg_epoch_loss=24.4]\n",
            "100%|██████████| 50/50 [00:05<00:00,  8.57it/s, epoch=23/500, avg_epoch_loss=24.4]\n",
            "100%|██████████| 50/50 [00:06<00:00,  8.17it/s, epoch=24/500, avg_epoch_loss=24.4]\n",
            "100%|██████████| 50/50 [00:06<00:00,  8.32it/s, epoch=25/500, avg_epoch_loss=24.4]\n",
            "100%|██████████| 50/50 [00:05<00:00,  8.34it/s, epoch=26/500, avg_epoch_loss=24.4]\n",
            "100%|██████████| 50/50 [00:05<00:00,  8.58it/s, epoch=27/500, avg_epoch_loss=24.4]\n",
            "100%|██████████| 50/50 [00:05<00:00,  8.36it/s, epoch=28/500, avg_epoch_loss=24.4]\n",
            "100%|██████████| 50/50 [00:05<00:00,  8.55it/s, epoch=29/500, avg_epoch_loss=24.4]\n",
            "100%|██████████| 50/50 [00:05<00:00,  8.36it/s, epoch=30/500, avg_epoch_loss=24.4]\n",
            "100%|██████████| 50/50 [00:05<00:00,  8.47it/s, epoch=31/500, avg_epoch_loss=24.4]\n",
            "100%|██████████| 50/50 [00:06<00:00,  8.26it/s, epoch=32/500, avg_epoch_loss=24.4]\n",
            "100%|██████████| 50/50 [00:05<00:00,  8.40it/s, epoch=33/500, avg_epoch_loss=24.4]\n",
            "100%|██████████| 50/50 [00:06<00:00,  8.32it/s, epoch=34/500, avg_epoch_loss=24.4]\n",
            "100%|██████████| 50/50 [00:05<00:00,  8.37it/s, epoch=35/500, avg_epoch_loss=24.4]\n",
            "100%|██████████| 50/50 [00:05<00:00,  8.58it/s, epoch=36/500, avg_epoch_loss=24.4]\n",
            "100%|██████████| 50/50 [00:06<00:00,  7.89it/s, epoch=37/500, avg_epoch_loss=24.4]\n",
            "100%|██████████| 50/50 [00:06<00:00,  8.16it/s, epoch=38/500, avg_epoch_loss=24.4]\n",
            "100%|██████████| 50/50 [00:06<00:00,  7.99it/s, epoch=39/500, avg_epoch_loss=24.4]\n",
            "100%|██████████| 50/50 [00:05<00:00,  8.34it/s, epoch=40/500, avg_epoch_loss=24.4]\n",
            "100%|██████████| 50/50 [00:06<00:00,  7.43it/s, epoch=41/500, avg_epoch_loss=24.4]\n",
            "100%|██████████| 50/50 [00:06<00:00,  8.17it/s, epoch=42/500, avg_epoch_loss=24.4]\n",
            "100%|██████████| 50/50 [00:05<00:00,  8.48it/s, epoch=43/500, avg_epoch_loss=24.4]\n",
            "100%|██████████| 50/50 [00:06<00:00,  7.95it/s, epoch=44/500, avg_epoch_loss=24.4]\n",
            "100%|██████████| 50/50 [00:06<00:00,  8.10it/s, epoch=45/500, avg_epoch_loss=24.4]\n",
            "100%|██████████| 50/50 [00:06<00:00,  8.06it/s, epoch=46/500, avg_epoch_loss=24.4]\n",
            "100%|██████████| 50/50 [00:06<00:00,  7.78it/s, epoch=47/500, avg_epoch_loss=24.4]\n",
            "100%|██████████| 50/50 [00:06<00:00,  8.04it/s, epoch=48/500, avg_epoch_loss=24.4]\n",
            "100%|██████████| 50/50 [00:06<00:00,  8.31it/s, epoch=49/500, avg_epoch_loss=24.4]\n",
            "100%|██████████| 50/50 [00:05<00:00,  8.76it/s, epoch=50/500, avg_epoch_loss=24.4]\n",
            "100%|██████████| 50/50 [00:06<00:00,  7.60it/s, epoch=51/500, avg_epoch_loss=24.4]\n",
            "100%|██████████| 50/50 [00:05<00:00,  8.47it/s, epoch=52/500, avg_epoch_loss=24.4]\n",
            "100%|██████████| 50/50 [00:05<00:00,  8.52it/s, epoch=53/500, avg_epoch_loss=24.4]\n",
            "100%|██████████| 50/50 [00:05<00:00,  8.55it/s, epoch=54/500, avg_epoch_loss=24.4]\n",
            "100%|██████████| 50/50 [00:05<00:00,  8.63it/s, epoch=55/500, avg_epoch_loss=24.4]\n",
            "100%|██████████| 50/50 [00:06<00:00,  8.24it/s, epoch=56/500, avg_epoch_loss=24.4]\n",
            "100%|██████████| 50/50 [00:05<00:00,  8.51it/s, epoch=57/500, avg_epoch_loss=24.4]\n",
            "100%|██████████| 50/50 [00:06<00:00,  7.96it/s, epoch=58/500, avg_epoch_loss=24.3]\n",
            "100%|██████████| 50/50 [00:05<00:00,  8.59it/s, epoch=59/500, avg_epoch_loss=24.4]\n",
            "100%|██████████| 50/50 [00:05<00:00,  8.67it/s, epoch=60/500, avg_epoch_loss=24.4]\n",
            "100%|██████████| 50/50 [00:05<00:00,  8.96it/s, epoch=61/500, avg_epoch_loss=24.4]\n",
            "100%|██████████| 50/50 [00:05<00:00,  8.53it/s, epoch=62/500, avg_epoch_loss=24.4]\n",
            "100%|██████████| 50/50 [00:05<00:00,  8.42it/s, epoch=63/500, avg_epoch_loss=24.4]\n",
            "100%|██████████| 50/50 [00:05<00:00,  8.39it/s, epoch=64/500, avg_epoch_loss=24.4]\n",
            "100%|██████████| 50/50 [00:05<00:00,  8.53it/s, epoch=65/500, avg_epoch_loss=24.4]\n",
            "100%|██████████| 50/50 [00:05<00:00,  8.44it/s, epoch=66/500, avg_epoch_loss=24.4]\n",
            "100%|██████████| 50/50 [00:05<00:00,  8.73it/s, epoch=67/500, avg_epoch_loss=24.4]\n",
            "100%|██████████| 50/50 [00:05<00:00,  8.65it/s, epoch=68/500, avg_epoch_loss=24.4]\n",
            "100%|██████████| 50/50 [00:05<00:00,  8.77it/s, epoch=69/500, avg_epoch_loss=24.4]\n",
            "100%|██████████| 50/50 [00:05<00:00,  8.88it/s, epoch=70/500, avg_epoch_loss=24.4]\n",
            "100%|██████████| 50/50 [00:05<00:00,  8.97it/s, epoch=71/500, avg_epoch_loss=24.3]\n",
            "100%|██████████| 50/50 [00:05<00:00,  8.50it/s, epoch=72/500, avg_epoch_loss=24.4]\n",
            "100%|██████████| 50/50 [00:05<00:00,  8.78it/s, epoch=73/500, avg_epoch_loss=24.4]\n",
            "100%|██████████| 50/50 [00:05<00:00,  8.95it/s, epoch=74/500, avg_epoch_loss=24.4]\n",
            "100%|██████████| 50/50 [00:06<00:00,  8.31it/s, epoch=75/500, avg_epoch_loss=24.4]\n",
            "100%|██████████| 50/50 [00:05<00:00,  8.65it/s, epoch=76/500, avg_epoch_loss=24.4]\n",
            "100%|██████████| 50/50 [00:05<00:00,  8.77it/s, epoch=77/500, avg_epoch_loss=24.4]\n",
            "100%|██████████| 50/50 [00:05<00:00,  8.65it/s, epoch=78/500, avg_epoch_loss=24.4]\n",
            "100%|██████████| 50/50 [00:05<00:00,  8.58it/s, epoch=79/500, avg_epoch_loss=24.4]\n",
            "100%|██████████| 50/50 [00:05<00:00,  8.48it/s, epoch=80/500, avg_epoch_loss=24.4]\n",
            "100%|██████████| 50/50 [00:05<00:00,  8.91it/s, epoch=81/500, avg_epoch_loss=24.4]\n",
            "100%|██████████| 50/50 [00:05<00:00,  8.53it/s, epoch=82/500, avg_epoch_loss=24.4]\n",
            "100%|██████████| 50/50 [00:05<00:00,  8.70it/s, epoch=83/500, avg_epoch_loss=24.4]\n",
            "100%|██████████| 50/50 [00:05<00:00,  8.73it/s, epoch=84/500, avg_epoch_loss=24.4]\n",
            "100%|██████████| 50/50 [00:05<00:00,  8.64it/s, epoch=85/500, avg_epoch_loss=24.4]\n",
            "100%|██████████| 50/50 [00:05<00:00,  8.52it/s, epoch=86/500, avg_epoch_loss=24.4]\n",
            "100%|██████████| 50/50 [00:05<00:00,  8.51it/s, epoch=87/500, avg_epoch_loss=24.4]\n",
            "100%|██████████| 50/50 [00:05<00:00,  8.53it/s, epoch=88/500, avg_epoch_loss=24.4]\n",
            "100%|██████████| 50/50 [00:05<00:00,  8.46it/s, epoch=89/500, avg_epoch_loss=24.4]\n",
            "100%|██████████| 50/50 [00:05<00:00,  8.42it/s, epoch=90/500, avg_epoch_loss=24.4]\n",
            "100%|██████████| 50/50 [00:06<00:00,  7.61it/s, epoch=91/500, avg_epoch_loss=24.4]\n",
            "100%|██████████| 50/50 [00:05<00:00,  8.65it/s, epoch=92/500, avg_epoch_loss=24.4]\n",
            "100%|██████████| 50/50 [00:05<00:00,  8.69it/s, epoch=93/500, avg_epoch_loss=24.4]\n",
            "100%|██████████| 50/50 [00:05<00:00,  8.66it/s, epoch=94/500, avg_epoch_loss=24.4]\n",
            "100%|██████████| 50/50 [00:06<00:00,  8.32it/s, epoch=95/500, avg_epoch_loss=24.4]\n",
            "100%|██████████| 50/50 [00:05<00:00,  8.66it/s, epoch=96/500, avg_epoch_loss=24.4]\n",
            "100%|██████████| 50/50 [00:05<00:00,  8.40it/s, epoch=97/500, avg_epoch_loss=24.4]\n",
            "100%|██████████| 50/50 [00:05<00:00,  8.37it/s, epoch=98/500, avg_epoch_loss=24.4]\n",
            "100%|██████████| 50/50 [00:05<00:00,  8.59it/s, epoch=99/500, avg_epoch_loss=24.4]\n",
            "100%|██████████| 50/50 [00:05<00:00,  8.38it/s, epoch=100/500, avg_epoch_loss=24.4]\n",
            "100%|██████████| 50/50 [00:06<00:00,  7.85it/s, epoch=101/500, avg_epoch_loss=24.4]\n",
            "WARNING:root:Serializing RepresentableBlockPredictor instances does not save the prediction network structure in a backwards-compatible manner. Be careful not to use this method in production.\n"
          ]
        },
        {
          "name": "stdout",
          "output_type": "stream",
          "text": [
            "Early stopping based on learning rate scheduler callback (min_lr was reached).\n"
          ]
        }
      ],
      "source": [
        "model_path = \"./pred_{}_{}_{}/\".format(DELTA, AGG, len(features))\n",
        "\n",
        "if RUN_MODEL:\n",
        "    callbacks = [\n",
        "        LearningRateReduction(objective=\"min\",\n",
        "                            patience=20,\n",
        "                            base_lr=1e-3,\n",
        "                            decay_factor=0.5,\n",
        "                            ),\n",
        "        ModelAveraging(avg_strategy=SelectNBestMean(num_models=2))\n",
        "    ]\n",
        "\n",
        "    estimator = DeepAREstimator(\n",
        "        freq=FREQ,\n",
        "        \n",
        "        prediction_length=DELTA,\n",
        "        context_length=2*DELTA,\n",
        "        num_layers = 2,\n",
        "        num_cells = 40,\n",
        "        cell_type='lstm',\n",
        "        distr_output=StudentTOutput(),\n",
        "        dropout_rate=0.01,\n",
        "        trainer=Trainer(#ctx = mx.context.gpu(),\n",
        "                        epochs=500,\n",
        "                        callbacks=callbacks))\n",
        "\n",
        "    predictor = estimator.train(training_data)\n",
        "    if os.path.exists(model_path):\n",
        "        shutil.rmtree(model_path)\n",
        "    os.mkdir( model_path)\n",
        "    predictor.serialize(Path(model_path))\n",
        "else:\n",
        "    predictor = Predictor.deserialize(Path(model_path))\n"
      ]
    },
    {
      "cell_type": "code",
      "execution_count": 8,
      "metadata": {},
      "outputs": [],
      "source": [
        "target_date = datetime.combine(date(2021, 10, 17), time(6,0))\n",
        "\n",
        "test_data = ListDataset(\n",
        "    [{\"start\": test_ds.index[0], \"target\": test_ds[:target_date]['Price']\n",
        "    ,'feat_dynamic_real': [feature['Count'] for feature in test_features]\n",
        "    }],\n",
        "    freq = FREQ\n",
        ")\n",
        "\n",
        "test_entry, forecast = None, None\n",
        "for input, output in zip(test_data, predictor.predict(test_data)):\n",
        "    test_entry = input\n",
        "    forecast = output\n",
        "\n",
        "pred = pd.DataFrame(forecast.mean)"
      ]
    },
    {
      "cell_type": "code",
      "execution_count": 9,
      "metadata": {},
      "outputs": [
        {
          "data": {
            "image/png": "[encoded data removed]",
            "text/plain": [
              "<Figure size 432x288 with 1 Axes>"
            ]
          },
          "metadata": {
            "needs_background": "light"
          },
          "output_type": "display_data"
        }
      ],
      "source": [
        "image = \"pred_{}_{}_{}_{}.jpg\".format(target_date, DELTA, AGG, len(features))\n",
        "real_pre = to_pandas(test_entry)\n",
        "start = real_pre.index[-50]\n",
        "end = start + timedelta(minutes=(50 + DELTA)*AGG)\n",
        "valid_ds = deep_ds[start:end]\n",
        "valid_ds.plot(linewidth=2, color='r', label='Actual Gas Prices')\n",
        "forecast.plot(color='g', prediction_intervals=[50.0, 90.0], show_mean=True, label='Predicted')\n",
        "plt.grid(which='both')\n",
        "plt.title('Ethereum Gas Price Prediction')\n",
        "plt.legend([\"Actual Gas Prices\", \"Prediction (median/50%/90%)\"], loc=\"upper left\")\n",
        "plt.savefig(image, dpi=150, bbox_inches='tight')\n",
        "plt.show()"
      ]
    },
    {
      "cell_type": "code",
      "execution_count": 10,
      "metadata": {},
      "outputs": [],
      "source": [
        "start = target_date + timedelta(minutes=AGG)\n",
        "end = target_date + timedelta(minutes=AGG*DELTA)\n",
        "real = deep_ds[start:end]['Price']\n",
        "sc = MinMaxScaler(feature_range=(0,1))\n",
        "real=real.values.reshape(-1, 1)\n",
        "pred=pred.values.reshape(-1, 1)\n",
        "real = sc.fit_transform(real)\n",
        "pred = sc.transform(pred)\n",
        "\n",
        "csv_file = \"pred_{}_{}_{}_{}.csv\".format(target_date, DELTA, AGG, len(features))\n",
        "with open(csv_file, 'w') as writer:\n",
        "    writer.write(\"MAE,{}\\n\".format(mean_absolute_error(real, pred)))\n",
        "    writer.write(\"MSE,{}\\n\".format(mean_squared_error(real, pred)))\n",
        "    writer.write(\"R2,{}\\n\".format(r2_score(real, pred)))\n",
        "    writer.write(\"RMSE,{}\\n\".format(sqrt(mean_squared_error(real, pred))))"
      ]
    },
    {
      "cell_type": "code",
      "execution_count": 11,
      "metadata": {},
      "outputs": [
        {
          "name": "stdout",
          "output_type": "stream",
          "text": [
            "Last run: pred_2021-10-17 06:00:00_40_20_6.jpg pred_2021-10-17 06:00:00_40_20_6.csv\n"
          ]
        }
      ],
      "source": [
        "\n",
        "print('Last run:', image, csv_file)"
      ]
    }
  ],
  "metadata": {
    "colab": {
      "collapsed_sections": [],
      "name": "Untitled29.ipynb",
      "provenance": [],
      "toc_visible": true
    },
    "kernelspec": {
      "display_name": "Python 3",
      "name": "python3"
    },
    "language_info": {
      "codemirror_mode": {
        "name": "ipython",
        "version": 3
      },
      "file_extension": ".py",
      "mimetype": "text/x-python",
      "name": "python",
      "nbconvert_exporter": "python",
      "pygments_lexer": "ipython3",
      "version": "3.7.6"
    }
  },
  "nbformat": 4,
  "nbformat_minor": 0
}
