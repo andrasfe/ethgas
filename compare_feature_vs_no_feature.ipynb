{
 "cells": [
  {
   "cell_type": "code",
   "execution_count": 71,
   "metadata": {},
   "outputs": [],
   "source": [
    "import pandas as pd\n",
    "import json\n",
    "import glob\n",
    "from datetime import datetime\n",
    "import matplotlib.pyplot as plt"
   ]
  },
  {
   "cell_type": "code",
   "execution_count": 72,
   "metadata": {},
   "outputs": [],
   "source": [
    "# Create an empty DataFrame\n",
    "df = pd.DataFrame(columns=['datetime', 'coverage', 'mse', 'last_digit'])"
   ]
  },
  {
   "cell_type": "code",
   "execution_count": 111,
   "metadata": {},
   "outputs": [],
   "source": [
    "cnt = 7\n",
    "series = [[] for _ in range(cnt)]\n",
    "averages = [[] for _ in range(cnt)]\n",
    "dates = set()\n",
    "pattern = 'pred_*_40_5_*.json'\n",
    "for filename in glob.glob(pattern):\n",
    "    datetime_str = filename.split('_')[1] \n",
    "    datetime_obj = datetime.strptime(datetime_str, '%Y-%m-%d %H:%M:%S')\n",
    "    dates.add(datetime_obj)\n",
    "    last_digit = int(filename.split('_')[-1][0])\n",
    "\n",
    "    with open(filename, 'r') as f:\n",
    "        data = json.load(f)\n",
    "        series[last_digit].append(data)\n",
    "    \n",
    "for i in range(cnt):\n",
    "    df_avg = pd.DataFrame(series[i])\n",
    "    averages[i] = df_avg.mean()\n"
   ]
  },
  {
   "cell_type": "code",
   "execution_count": null,
   "metadata": {},
   "outputs": [],
   "source": [
    "averages[0],averages[6]"
   ]
  }
 ],
 "metadata": {
  "kernelspec": {
   "display_name": "deepar",
   "language": "python",
   "name": "python3"
  },
  "language_info": {
   "codemirror_mode": {
    "name": "ipython",
    "version": 3
   },
   "file_extension": ".py",
   "mimetype": "text/x-python",
   "name": "python",
   "nbconvert_exporter": "python",
   "pygments_lexer": "ipython3",
   "version": "3.7.13"
  },
  "orig_nbformat": 4
 },
 "nbformat": 4,
 "nbformat_minor": 2
}
